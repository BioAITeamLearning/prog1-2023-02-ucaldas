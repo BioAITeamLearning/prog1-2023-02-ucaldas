{
 "cells": [
  {
   "cell_type": "markdown",
   "id": "bb2ddbd9",
   "metadata": {},
   "source": [
    "# Recursos y Actividades"
   ]
  }
 ],
 "metadata": {
  "jupytext": {
   "formats": "md:myst",
   "text_representation": {
    "extension": ".md",
    "format_name": "myst"
   }
  },
  "kernelspec": {
   "display_name": "Python 3",
   "language": "python",
   "name": "python3"
  },
  "source_map": [
   11
  ]
 },
 "nbformat": 4,
 "nbformat_minor": 5
}