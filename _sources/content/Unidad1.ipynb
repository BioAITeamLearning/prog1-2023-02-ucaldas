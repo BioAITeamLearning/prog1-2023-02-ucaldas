{
 "cells": [
  {
   "cell_type": "markdown",
   "id": "65039823",
   "metadata": {},
   "source": [
    "# Clase 1\n",
    "\n",
    "## Introducción a la Programación\n",
    "\n",
    "<iframe src=\"https://docs.google.com/presentation/d/e/2PACX-1vRwo5QOQs0qfvHzgICu-NOzsiroo1au5dtqlBQC6IuYfER_j5GQkXgbxXxhV1aNlA/embed?start=false&loop=false&delayms=3000\" frameborder=\"0\" width=\"800\" height=\"500\" allowfullscreen=\"true\" mozallowfullscreen=\"true\" webkitallowfullscreen=\"true\"></iframe>\n",
    "\n",
    "---\n",
    "\n",
    "## Algoritmos\n",
    "\n",
    "\n",
    "## Tipos de Lenguajes\n",
    "\n",
    "\n",
    "## Historia de la Programación\n",
    "\n",
    "\n",
    "## Lógica de Programación\n",
    "\n",
    "\n",
    "## Pseudocódigo y Diagramas de Flujo"
   ]
  }
 ],
 "metadata": {
  "jupytext": {
   "formats": "md:myst",
   "text_representation": {
    "extension": ".md",
    "format_name": "myst"
   }
  },
  "kernelspec": {
   "display_name": "Python 3",
   "language": "python",
   "name": "python3"
  },
  "language_info": {
   "codemirror_mode": {
    "name": "ipython",
    "version": 3
   },
   "file_extension": ".py",
   "mimetype": "text/x-python",
   "name": "python",
   "nbconvert_exporter": "python",
   "pygments_lexer": "ipython3",
   "version": "3.10.7"
  },
  "source_map": [
   11
  ]
 },
 "nbformat": 4,
 "nbformat_minor": 5
}