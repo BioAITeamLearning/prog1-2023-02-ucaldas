{
 "cells": [
  {
   "cell_type": "markdown",
   "id": "207359a1",
   "metadata": {},
   "source": [
    "# Quiz 1\n",
    "\n",
    "Evaluemos lo aprendido en la Clase 1 y Clase 2\n",
    "\n",
    "::::{card-carousel} 1\n",
    "\n",
    ":::{card}\n",
    ":margin: 3\n",
    ":class-body: text-center\n",
    ":class-header: bg-light text-center\n",
    ":link: asa\n",
    "**💬 Quiz 1**\n",
    "^^^\n",
    "```{image} https://upload.wikimedia.org/wikipedia/commons/thumb/c/c2/Google_Forms_logo_%282014-2020%29.svg/1489px-Google_Forms_logo_%282014-2020%29.svg.png\n",
    ":height: 100\n",
    "```\n",
    "\n",
    "Quiz 1: Clase 1 y Clase 2\n",
    "+++\n",
    "Explore this book {fas}`arrow-right`\n",
    ":::\n",
    "::::"
   ]
  }
 ],
 "metadata": {
  "jupytext": {
   "formats": "md:myst",
   "text_representation": {
    "extension": ".md",
    "format_name": "myst"
   }
  },
  "kernelspec": {
   "display_name": "Python 3",
   "language": "python",
   "name": "python3"
  },
  "source_map": [
   11
  ]
 },
 "nbformat": 4,
 "nbformat_minor": 5
}