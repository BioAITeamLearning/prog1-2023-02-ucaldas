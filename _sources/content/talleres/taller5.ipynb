{
 "cells": [
  {
   "cell_type": "markdown",
   "id": "112a01fc",
   "metadata": {},
   "source": [
    "# 📄 Taller 5\n",
    "\n",
    "## Condicionales\n",
    "Programación I\n",
    "\n",
    "Reinel Tabares Soto\n",
    "\n",
    ":::{note}\n",
    "Este Taller debe entregarse en formato `docx`, con sus respectivas pruebas de escritorio y diagrama de flujo realizado a mano y subido en forma de foto (en caso de pedirse).\n",
    "\n",
    "Los notebooks de Colaboratory (Java y/o Python) pueden estar adjuntos o como un enlace en el `.docx` con los permisos en público.\n",
    "\n",
    "Los ejercicios en PSeInt deben estar contenidos en una carpeta y deben nombrarse de las siguientes formas `ejercicio1`, `ejercicio-1` (no utilizar nombres como `ejercicioCalculadoraNumeros`, `calcularIVAeImpuestos`)\n",
    ":::"
   ]
  }
 ],
 "metadata": {
  "jupytext": {
   "formats": "md:myst",
   "text_representation": {
    "extension": ".md",
    "format_name": "myst"
   }
  },
  "kernelspec": {
   "display_name": "Python 3",
   "language": "python",
   "name": "python3"
  },
  "source_map": [
   11
  ]
 },
 "nbformat": 4,
 "nbformat_minor": 5
}