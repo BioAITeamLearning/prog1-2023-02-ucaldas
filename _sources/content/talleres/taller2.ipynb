{
 "cells": [
  {
   "cell_type": "markdown",
   "id": "e23d547c",
   "metadata": {},
   "source": [
    "# Taller 2"
   ]
  }
 ],
 "metadata": {
  "jupytext": {
   "formats": "md:myst",
   "text_representation": {
    "extension": ".md",
    "format_name": "myst"
   }
  },
  "kernelspec": {
   "display_name": "Python 3",
   "language": "python",
   "name": "python3"
  },
  "source_map": [
   11
  ]
 },
 "nbformat": 4,
 "nbformat_minor": 5
}