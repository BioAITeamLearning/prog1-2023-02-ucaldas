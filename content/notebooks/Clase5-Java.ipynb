{
  "nbformat": 4,
  "nbformat_minor": 0,
  "metadata": {
    "colab": {
      "provenance": [],
      "collapsed_sections": [
        "h8oLiOstldF5"
      ]
    },
    "kernelspec": {
      "name": "java",
      "display_name": "Java"
    },
    "language_info": {
      "name": "java"
    }
  },
  "cells": [
    {
      "cell_type": "markdown",
      "source": [
        "# 📙 Condicionales"
      ],
      "metadata": {
        "id": "PcXSzo0z5kor"
      }
    },
    {
      "cell_type": "markdown",
      "source": [
        "## Tabla de Contenido\n",
        "\n",
        "- [1 - Instalar Java](#1)\n",
        "- [2 - Ejemplos Condicionales](#2)\n",
        "  - [2.1 - Ejemplos if](#2.1)\n",
        "  - [2.2 - Ejemplos else](#2.2)\n",
        "  - [2.3 - Ejemplos else if](#2.3)\n",
        "- [3 - Ejemplos Switch Case](#3)\n",
        "- [4 - Ejercicios](#4)"
      ],
      "metadata": {
        "id": "rwjBFkoZLC5-"
      }
    },
    {
      "cell_type": "markdown",
      "source": [
        "<a name='1'></a>\n",
        "## Instalar Java"
      ],
      "metadata": {
        "id": "h8oLiOstldF5"
      }
    },
    {
      "cell_type": "code",
      "execution_count": null,
      "metadata": {
        "id": "IrB2Kt3NqXec",
        "colab": {
          "base_uri": "https://localhost:8080/"
        },
        "outputId": "0de7a5f6-2e4a-4c9b-889f-38cba350022a"
      },
      "outputs": [
        {
          "output_type": "stream",
          "name": "stdout",
          "text": [
            "Installed java kernel into \"/usr/local/share/jupyter/kernels/java\"\n",
            "e2732061ad19c1afa4a33a58cb8f18a9-b6cff2bf09b6832344e576ea1e4731f0fb3df10c/install_ipc_proxy_kernel.py\n",
            "e2732061ad19c1afa4a33a58cb8f18a9-b6cff2bf09b6832344e576ea1e4731f0fb3df10c/ipc_proxy_kernel.py\n",
            "Moving java kernel from /usr/local/share/jupyter/kernels/java...\n",
            "Wrote modified kernel.json for java_tcp in /usr/local/share/jupyter/kernels/java_tcp/kernel.json\n",
            "Installing the proxy kernel in place of java in /usr/local/share/jupyter/kernels/java\n",
            "Installed proxy kernelspec: {\"argv\": [\"/usr/bin/python3\", \"/usr/local/share/jupyter/kernels/java/ipc_proxy_kernel.py\", \"{connection_file}\", \"--kernel=java_tcp\"], \"env\": {}, \"display_name\": \"Java\", \"language\": \"java\", \"interrupt_mode\": \"message\", \"metadata\": {}}\n",
            "Proxy kernel installed. Go to 'Runtime > Change runtime type' and select 'java'\n"
          ]
        },
        {
          "output_type": "stream",
          "name": "stderr",
          "text": [
            "/content/install.py:164: DeprecationWarning: replace is ignored. Installing a kernelspec always replaces an existing installation\n",
            "  install_dest = KernelSpecManager().install_kernel_spec(\n"
          ]
        }
      ],
      "source": [
        "%%sh\n",
        "wget -q https://github.com/SpencerPark/IJava/releases/download/v1.3.0/ijava-1.3.0.zip\n",
        "unzip -q ijava-1.3.0.zip\n",
        "python install.py\n",
        "\n",
        "wget -qO- https://gist.github.com/SpencerPark/e2732061ad19c1afa4a33a58cb8f18a9/archive/b6cff2bf09b6832344e576ea1e4731f0fb3df10c.tar.gz | tar xvz --strip-components=1\n",
        "python install_ipc_proxy_kernel.py --kernel=java --implementation=ipc_proxy_kernel.py"
      ]
    },
    {
      "cell_type": "markdown",
      "source": [
        "<div class=\"admonition warning\" style=\"background: lightgreen; padding: 10px\">\n",
        "    <p class=\"title\">Instrucciones para activar el kernel</p>\n",
        "<p>Dirigite a <code>Entorno de ejecución</code> > <code>Cambiar tipo de entorno de ejecución</code> > Elige la opción <code>Java</code> > Da click en <code>Guardar</code></p>\n",
        "</div>"
      ],
      "metadata": {
        "id": "880xyshJlyOw"
      }
    },
    {
      "cell_type": "markdown",
      "source": [
        "## Importar Librerias"
      ],
      "metadata": {
        "id": "53kQUFUSUjf9"
      }
    },
    {
      "cell_type": "code",
      "source": [
        "// Libreria para usar potencia y otras funciones matemáticas\n",
        "import java.lang.Math;\n",
        "\n",
        "// Libreria para usar el objeto Scanner (leer variables)\n",
        "import java.util.Scanner;"
      ],
      "metadata": {
        "id": "4b1UMwmSrq3W"
      },
      "execution_count": null,
      "outputs": []
    },
    {
      "cell_type": "markdown",
      "source": [
        "<a name='2'></a>\n",
        "## Ejemplos Condicionales"
      ],
      "metadata": {
        "id": "nq1pBwmVDyo2"
      }
    },
    {
      "cell_type": "markdown",
      "source": [
        "<a name='2.1'></a>\n",
        "### Ejemplos `if`"
      ],
      "metadata": {
        "id": "jUyAliAZs0kL"
      }
    },
    {
      "cell_type": "markdown",
      "source": [
        "#### Ejemplo 1:\n",
        "\n",
        "Realizar un programa que me diga si un numero $X$ es mayor que $5$"
      ],
      "metadata": {
        "id": "rLl0eCMXUuE1"
      }
    },
    {
      "cell_type": "code",
      "source": [
        "// Variable scn de tipo scanner\n",
        "Scanner scn = new Scanner(System.in);\n",
        "\n",
        "// Leer número\n",
        "System.out.println(\"Ingrese un número:\");\n",
        "float x = scn.nextFloat();\n",
        "\n",
        "// Acción\n",
        "if (x > 5) {\n",
        "    System.out.println(\"x es mayor que 5\");\n",
        "}"
      ],
      "metadata": {
        "colab": {
          "base_uri": "https://localhost:8080/"
        },
        "id": "Ejuik0NfElYA",
        "outputId": "2fb545d6-0866-42d6-db62-29324eef9a34"
      },
      "execution_count": null,
      "outputs": [
        {
          "output_type": "stream",
          "name": "stdout",
          "text": [
            "Ingrese un número:\n",
            "3\n",
            "x es menor que 5\n"
          ]
        }
      ]
    },
    {
      "cell_type": "markdown",
      "source": [
        "#### Ejemplo 2:\n",
        "\n",
        "Realizar un programa que me diga si una persona es mayor de edad e imprima el mensaje `\"Mientras usted viva en esta casa se hará lo que yo diga\"`, en caso de que viva en la casa de sus padres y sea mayor de edad. Debe pedir la edad del usuario y preguntar si vive o no en la casa de sus padres.\n",
        "\n",
        "*Implementación de `if` anidados. Los `if` anidados son estructuras que establecen condiciones consecutivas donde se encandenan, esto tiene diferentes aplicaciones desde hacer validaciones hasta generar filtros de condición.*"
      ],
      "metadata": {
        "id": "lMiWzfMY-4m3"
      }
    },
    {
      "cell_type": "code",
      "source": [
        "// Variable para leer la edad\n",
        "Scanner scn = new Scanner(System.in);\n",
        "\n",
        "// Variable para leer si o no\n",
        "Scanner scin = new Scanner(System.in);\n",
        "\n",
        "// Leer edad\n",
        "System.out.println(\"Ingrese la edad:\");\n",
        "int edad = scn.nextInt();\n",
        "\n",
        "// Leer si o no\n",
        "System.out.println(\"Vive en casa (si/no):\");\n",
        "String casa = scin.nextLine();\n",
        "\n",
        "// Acción con if anidados\n",
        "if (edad>0) {\n",
        "  if(edad>=18) {\n",
        "    System.out.println(\"Es mayor de edad\");\n",
        "    if (casa.equals(\"si\")) {\n",
        "      System.out.println(\"Mientras usted viva en esta casa se hará lo que yo diga\");\n",
        "    }\n",
        "    else{\n",
        "      System.out.println(\"puede hacer lo que le de la gana en su casa\");\n",
        "      }\n",
        "  }\n",
        "  else{\n",
        "    System.out.println(\"usted es un bebe\");\n",
        "  }\n",
        "}\n",
        "else{\n",
        "  System.out.println(\"aprenda a escribir edades\");\n",
        "}"
      ],
      "metadata": {
        "id": "XdvQj41CIxua",
        "colab": {
          "base_uri": "https://localhost:8080/"
        },
        "outputId": "b38371a1-3534-4017-e8fe-d0a6907cf4bb"
      },
      "execution_count": null,
      "outputs": [
        {
          "output_type": "stream",
          "name": "stdout",
          "text": [
            "Ingrese la edad:\n",
            "19\n",
            "Vive en casa (si/no):\n",
            "si\n",
            "Mientras usted viva en esta casa se hará lo que yo diga\n"
          ]
        }
      ]
    },
    {
      "cell_type": "markdown",
      "source": [
        "<a name='2.2'></a>\n",
        "### Ejemplos `else`"
      ],
      "metadata": {
        "id": "xnHy7-AcD5Kl"
      }
    },
    {
      "cell_type": "markdown",
      "source": [
        "#### Ejemplo 3:\n",
        "\n",
        "*`if` anidado incorporando `else`*\n",
        "\n",
        "Realizar un programa donde se le pida a un usuario que ingrese la temperatura actual de forma que si la temperatura es mayor a $15°$ Celsius pase a la siguiente condición, donde se le pregunta si es mayor a $25°$ Celsius, en caso de ser así, imprimir el mensaje `\"A la playa\"`, de lo contrario imprimir `A la montaña!`."
      ],
      "metadata": {
        "id": "qcZlsjF_qojS"
      }
    },
    {
      "cell_type": "code",
      "source": [
        "// Variable para leer la temperatura\n",
        "Scanner scn = new Scanner(System.in);\n",
        "\n",
        "// Leer la temperatura\n",
        "System.out.println(\"Ingrese el valor de la temperatura\");\n",
        "float temperatura = scn.nextFloat();\n",
        "\n",
        "if (temperatura > 15) {\n",
        "  if (temperatura > 25) {\n",
        "    // Si la temperatura es mayor que 25 ...\n",
        "    System.out.println(\"A la playa!\");\n",
        "    } else {\n",
        "      System.out.println(\"A la montaña!\");\n",
        "    }\n",
        "}"
      ],
      "metadata": {
        "id": "95ODKWYSPbx4",
        "colab": {
          "base_uri": "https://localhost:8080/"
        },
        "outputId": "72f3c16a-d8f8-4bf0-f8be-eb9c6698e49a"
      },
      "execution_count": null,
      "outputs": [
        {
          "name": "stdout",
          "output_type": "stream",
          "text": [
            "Ingrese el valor de la temperatura\n",
            "10\n"
          ]
        }
      ]
    },
    {
      "cell_type": "markdown",
      "source": [
        "#### Ejemplo 4:\n",
        "\n",
        "Realizar un programa que pida por teclado 2 números enteros diferentes y compare e imprima el mayor de ellos."
      ],
      "metadata": {
        "id": "AyJnkQYvlSf1"
      }
    },
    {
      "cell_type": "code",
      "source": [
        "// Se pueden definir n variables del mismo tipo en la misma linea:\n",
        "int num1, num2;\n",
        "\n",
        "// Variable para leer enteros\n",
        "Scanner entrada = new Scanner (System.in);\n",
        "\n",
        "// Leer numeros enteros\n",
        "System.out.println(\"Ingrese el primer numero: \");\n",
        "num1 = entrada.nextInt();\n",
        "System.out.println(\"Ingrese el segundo numero: \");\n",
        "num2 = entrada.nextInt();\n",
        "\n",
        "// Comparar numeros\n",
        "if(num1 > num2){\n",
        "  System.out.println(\"El número mayor es: \" + num1);\n",
        "} else {\n",
        "  System.out.println(\"El número mayor es: \" + num2);\n",
        "}"
      ],
      "metadata": {
        "colab": {
          "base_uri": "https://localhost:8080/"
        },
        "id": "29a91u02lTMR",
        "outputId": "f503d608-3183-4d01-9f33-9f93f1224199"
      },
      "execution_count": null,
      "outputs": [
        {
          "output_type": "stream",
          "name": "stdout",
          "text": [
            "Ingrese el primer numero: \n",
            "4\n",
            "Ingrese el segundo numero: \n",
            "5\n",
            "El número mayor es: 5\n"
          ]
        }
      ]
    },
    {
      "cell_type": "markdown",
      "source": [
        "#### Ejemplo 5:\n",
        "\n",
        "Realizar un programa que simule un inicio de sesión solicitando el nombre de usuario y contraseña. Mostrar un mensaje en pantalla si el inicio de sesión es correcto o incorrecto."
      ],
      "metadata": {
        "id": "xpjeHcGMqBTw"
      }
    },
    {
      "cell_type": "code",
      "source": [
        "// Definiendo variables String en la misma linea:\n",
        "String nombre, clave;\n",
        "\n",
        "// Variable para leer String\n",
        "Scanner entrada = new Scanner(System.in);\n",
        "\n",
        "// Leer Usuario y contraseña\n",
        "System.out.print(\"Ingrese Nombre de usuario: \");\n",
        "nombre = entrada.nextLine();\n",
        "System.out.print(\"Ingrese Clave de usuario: \");\n",
        "clave = entrada.nextLine();\n",
        "\n",
        "// Validar entradas\n",
        "if(nombre.equals(\"Juan\") && clave.equals(\"123456\")) {\n",
        "  System.out.println(\"Bienvenido al Sistema\");\n",
        "} else {\n",
        "  System.out.println(\"Nombre de Usuario o Contraseña Incorrecto\");\n",
        "}"
      ],
      "metadata": {
        "id": "p2xESwR8qBcG",
        "colab": {
          "base_uri": "https://localhost:8080/"
        },
        "outputId": "0d352a11-1cad-4622-e42a-cdf48aaac0d9"
      },
      "execution_count": null,
      "outputs": [
        {
          "output_type": "stream",
          "name": "stdout",
          "text": [
            "Ingrese Nombre de usuario: Juan \n",
            "Ingrese Clave de usuario: 123456\n",
            "Nombre de Usuario o Contraseña Incorrecto\n"
          ]
        }
      ]
    },
    {
      "cell_type": "markdown",
      "source": [
        "#### Ejemplo 6:\n",
        "\n",
        "Una farmacia desea un programa para ingresar el valor de compra y calcular lo siguiente: si el pago se efectúa al `\"contado\"`, calcular un descuento del $5%$; pero si el pago es con `\"tarjeta\"` se incrementa un recargo del $3%$ al valor de compra. Calcular y visualizar el descuento o recargo según sea el caso y el total a pagar de la compra."
      ],
      "metadata": {
        "id": "V6SjOHRLr1gF"
      }
    },
    {
      "cell_type": "code",
      "source": [
        "// Definir variables double en una sola linea:\n",
        "double valor, descuento, recargo, total;\n",
        "\n",
        "// Definir String\n",
        "String tipo_pago;\n",
        "\n",
        "// Variable para leer String\n",
        "Scanner entrada = new Scanner(System.in);\n",
        "\n",
        "// Leer variables\n",
        "System.out.print(\"Ingrese el valor de la compra: \");\n",
        "valor = entrada.nextDouble();\n",
        "System.out.print(\"Ingrese tipo de pago: \");\n",
        "tipo_pago = entrada.next();\n",
        "tipo_pago =tipo_pago.toLowerCase();\n",
        "\n",
        "// Descuento y recargo\n",
        "descuento = 0.05*valor;\n",
        "recargo = 0.03*valor;\n",
        "\n",
        "if (tipo_pago.equals(\"contado\")) {\n",
        "  System.out.println(\"El descuento es: \" + descuento);\n",
        "  total = valor - descuento;\n",
        "  System.out.println(\"El total es: \" + total);\n",
        "} else {\n",
        "  System.out.println(\"El recargo es: \" + recargo);\n",
        "  total = valor + recargo;\n",
        "  System.out.println(\"El total es: \" + total);\n",
        "}"
      ],
      "metadata": {
        "colab": {
          "base_uri": "https://localhost:8080/"
        },
        "id": "iHSfucAKr2GE",
        "outputId": "7519c573-a29a-4a89-f907-617ccb3c157f"
      },
      "execution_count": null,
      "outputs": [
        {
          "output_type": "stream",
          "name": "stdout",
          "text": [
            "Ingrese el valor de la compra: 100\n",
            "Ingrese tipo de pago: contado\n",
            "El descuento es: 5.0\n",
            "El total es: 95.0\n"
          ]
        }
      ]
    },
    {
      "cell_type": "markdown",
      "source": [
        "<a name='2.3'></a>\n",
        "### Ejemplos `else if`"
      ],
      "metadata": {
        "id": "G6nGWnMGEKj9"
      }
    },
    {
      "cell_type": "markdown",
      "source": [
        "#### Ejemplo 7:\n",
        "\n",
        "*`else if` es una alternativa al uso de los `if` anidados y la estructura `else`, este se activa como una condición alternativa si el resultado es falso en la condición inicial, esta funciona como un `else` pero iterativo y consecutivamente se cierra con `else`.*\n",
        "\n",
        "Realizar un programa que le pregunte al usuario la cantidad de satelites que tiene Jupiter y valide e imprima un mensaje si ha acertado o no."
      ],
      "metadata": {
        "id": "iHtnj4zb_wMO"
      }
    },
    {
      "cell_type": "code",
      "source": [
        "// Variable para leer String\n",
        "Scanner scn = new Scanner(System.in);\n",
        "\n",
        "// Leer variable\n",
        "System.out.println(\"¿Cuantos satelites tiene Jupiter\");\n",
        "int C = scn.nextInt();\n",
        "\n",
        "// Validar e imprimir mensaje\n",
        "if (C == 79) {\n",
        "\tSystem.out.println(\"Felicidades, has acertado la pregunta :)\");\n",
        "} else if (C != 79) {\n",
        "\tSystem.out.println(\"Lo siento pero no es la respuesta correcta :(\");\n",
        "}"
      ],
      "metadata": {
        "colab": {
          "base_uri": "https://localhost:8080/"
        },
        "id": "S_D1Rx-MH1J0",
        "outputId": "0fc83b10-5a4a-4d01-c79c-74a8514f95a0"
      },
      "execution_count": null,
      "outputs": [
        {
          "output_type": "stream",
          "name": "stdout",
          "text": [
            "¿Cuantos satelites tiene Jupiter\n",
            "79\n",
            "Felicidades, has acertado la pregunta :)\n"
          ]
        }
      ]
    },
    {
      "cell_type": "markdown",
      "source": [
        "#### Ejemplo 8:\n",
        "\n",
        "Realizar un programa que ordene 3 números de mayor a menor. Lea los numeros por teclado."
      ],
      "metadata": {
        "id": "ONkjVEOCl228"
      }
    },
    {
      "cell_type": "code",
      "source": [
        "// Definir variables (numeros enteros)\n",
        "int n1,n2,n3;\n",
        "\n",
        "// Leer variables\n",
        "Scanner entrada=new Scanner(System.in);\n",
        "System.out.print(\"Ingrese el primer numero: \");\n",
        "n1 = entrada.nextInt();\n",
        "System.out.print(\"Ingrese el segundo numero: \");\n",
        "n2 = entrada.nextInt();\n",
        "System.out.print(\"Ingrese el tercer numero: \");\n",
        "n3 = entrada.nextInt();\n",
        "\n",
        "// Lógica:\n",
        "if ((n1>n2) && (n2>n3)) {\n",
        "    System.out.println(\"El orden es: \" + n1 + \", \" + n2 + \", \" + n3);\n",
        "} else if ((n1>n3) && (n3>n2)) {\n",
        "    System.out.println(\"El orden es: \" + n1 + \", \" + n3 + \", \" + n2);\n",
        "} else if ((n2>n1) && (n1>n3)) {\n",
        "    System.out.println(\"El orden es: \" + n2 + \", \" + n1 + \", \" + n3);\n",
        "} else if ((n2>n3) && (n3>n1)) {\n",
        "    System.out.println(\"El orden es: \" + n2 + \", \" + n3 + \", \" + n1);\n",
        "} else if ((n3>n2) && (n2>n1)) {\n",
        "    System.out.println(\"El orden es: \" + n3 + \", \" + n2 + \", \" + n1);\n",
        "} else {\n",
        "    System.out.println(\"El orden es: \" + n3 + \", \" + n1 + \", \" + n2);\n",
        "}"
      ],
      "metadata": {
        "colab": {
          "base_uri": "https://localhost:8080/"
        },
        "id": "9BnOp4lbl2kx",
        "outputId": "39931e50-ded9-4584-f56e-497b4821dd09"
      },
      "execution_count": null,
      "outputs": [
        {
          "output_type": "stream",
          "name": "stdout",
          "text": [
            "Ingrese el primer numero: 3\n",
            "Ingrese el segundo numero: 3\n",
            "Ingrese el tercer numero: 3\n",
            "El orden es: 3, 3, 3\n"
          ]
        }
      ]
    },
    {
      "cell_type": "markdown",
      "source": [
        "#### Ejemplo 9:\n",
        "\n",
        "Realice un programa que pida al usuario una temperatura.\n",
        "- Si la temperatura es mayor a $25$, imprima `\"A la playa!\"`\n",
        "- Si la temperatura es mayor a $15$ y menor a $25$, imprima `\"A la montaña!\"`\n",
        "- Si la temperatura es menor a $5$, imprima `\"A esquiar!\"`\n",
        "\n",
        "En caso contario, imprimir `\"A descansar... zZz\"`"
      ],
      "metadata": {
        "id": "vIixQfW8iV28"
      }
    },
    {
      "cell_type": "code",
      "source": [
        "// Variable para leer temperatura\n",
        "Scanner scn = new Scanner(System.in);\n",
        "\n",
        "// Leer temperatura\n",
        "System.out.println(\"Ingrese la temperatura\");\n",
        "double temperatura = scn.nextDouble();\n",
        "\n",
        "// Lógica\n",
        "if (temperatura > 25) {\n",
        "    // Si la temperatura es mayor que 25 ...\n",
        "    System.out.println(\"A la playa!\");\n",
        "} else if (temperatura > 15) {\n",
        "    // si es mayor que 15 y no es mayor que 25 ..\n",
        "    System.out.println(\"A la montaña!\");\n",
        "} else if (temperatura < 5) {\n",
        "    // si es menor que 5 y esta nevando y no es mayor que 15 ni mayor que 25\n",
        "    System.out.println(\"A esquiar!\");\n",
        "} else {\n",
        "    // si la tempera  no es mayor que 25 ni que 15 ni menor que 5\n",
        "    System.out.println(\"A descansar... zZz\");\n",
        "}"
      ],
      "metadata": {
        "id": "6IAlx6a-tMjc",
        "colab": {
          "base_uri": "https://localhost:8080/"
        },
        "outputId": "69fe34a4-5c74-4192-ed2d-fad247fce010"
      },
      "execution_count": null,
      "outputs": [
        {
          "output_type": "stream",
          "name": "stdout",
          "text": [
            "Ingrese la temperatura\n",
            "30\n",
            "A la playa!\n",
            "A la montaña!\n"
          ]
        }
      ]
    },
    {
      "cell_type": "markdown",
      "source": [
        "#### Ejemplo 10:\n",
        "\n",
        "Realice un programa que al introducir el Coeficiente Intelectual (IQ, por sus siglas en inglés) del usuario lo clasifique en Bajo, Medio, Normal o Alto."
      ],
      "metadata": {
        "id": "HSFNIdTTve-I"
      }
    },
    {
      "cell_type": "code",
      "source": [
        "// Variable para leer IQ\n",
        "Scanner lectura = new Scanner (System.in);\n",
        "\n",
        "// Leer IQ\n",
        "System.out.println(\"Introduce el Coeficiente Intelectual. \");\n",
        "int iq = lectura.nextInt();\n",
        "\n",
        "// Lógica\n",
        "if (iq <= 79) {\n",
        "    System.out.println(\"IQ Bajo\");\n",
        "} else if (iq <= 89 && iq > 79) {\n",
        "    System.out.println(\"IQ Medio\");\n",
        "} else if (iq >= 90 && iq < 110) {\n",
        "    System.out.println(\"IQ Normal\");\n",
        "} else if (iq >= 110) {\n",
        "    System.out.println(\"IQ Alto\");\n",
        "}\n"
      ],
      "metadata": {
        "id": "3BZlF5vCvtVj",
        "outputId": "6fe6fded-ecf4-4624-a5cb-5cfc344966e8",
        "colab": {
          "base_uri": "https://localhost:8080/"
        }
      },
      "execution_count": null,
      "outputs": [
        {
          "output_type": "stream",
          "name": "stdout",
          "text": [
            "Introduce el Coeficiente Intelectual. \n",
            "89\n",
            "IQ Medio\n"
          ]
        }
      ]
    },
    {
      "cell_type": "markdown",
      "source": [
        "#### Ejemplo 11:\n",
        "\n",
        "Realizar un programa que cuente los días que faltan para el fin de semana. Tenga en cuenta que:\n",
        "\n",
        "    Domingo = 1 (Fin de Semana)\n",
        "    Lunes = 2\n",
        "    Martes = 3\n",
        "    Miercoles = 4\n",
        "    Jueves = 5\n",
        "    Viernes = 6\n",
        "    Sabado = 7 (Fin de Semana)"
      ],
      "metadata": {
        "id": "ZWWaXrgvDdkG"
      }
    },
    {
      "cell_type": "code",
      "source": [
        "// Variable para leer dia de la semana\n",
        "Scanner scn = new Scanner(System.in);\n",
        "\n",
        "// Leer dia\n",
        "System.out.println(\"Ingrese el dia de la semana: \");\n",
        "int dia = scn.nextInt();\n",
        "\n",
        "// Variable para contar los dias que faltan\n",
        "int diasHastaFinSemana = 0;\n",
        "\n",
        "// Lógica\n",
        "if (dia > 1 && dia < 7) {\n",
        "    if (dia < 6) {\n",
        "        diasHastaFinSemana++;\n",
        "        if (dia < 5) {\n",
        "           diasHastaFinSemana++;\n",
        "           if (dia < 4) {\n",
        "                diasHastaFinSemana++;\n",
        "                if (dia < 3) {\n",
        "                    diasHastaFinSemana++;\n",
        "                }\n",
        "            }\n",
        "        }\n",
        "    }\n",
        "    System.out.println(\"Dias restantes hasta el fin de semana: \" + diasHastaFinSemana);\n",
        "} else if (dia == 1 || dia == 7) {\n",
        "    System.out.println(\"Fin de semana\");\n",
        "} else {\n",
        "    System.out.println(\"La semana solo tiene 7 dias\");\n",
        "}"
      ],
      "metadata": {
        "id": "EwmHxI62BL_k",
        "colab": {
          "base_uri": "https://localhost:8080/"
        },
        "outputId": "a2eef1d4-3714-46a3-d589-afead3709d9a"
      },
      "execution_count": null,
      "outputs": [
        {
          "output_type": "stream",
          "name": "stdout",
          "text": [
            "Ingrese el dia de la semana: \n",
            "9\n",
            "La semana solo tiene 7 dias\n"
          ]
        }
      ]
    },
    {
      "cell_type": "markdown",
      "source": [
        "<a name='3'></a>\n",
        "## Ejemplos Switch Case"
      ],
      "metadata": {
        "id": "5rrlYgNtIKNE"
      }
    },
    {
      "cell_type": "markdown",
      "source": [
        "#### Ejemplo 12:\n",
        "\n",
        "Realizar un programa que pida al usuario un tipo de vehiculo (`Carro`, `Camion`, `Moto`) y que imprima a que hora del dia puede circular dependiendo del tipo ingresado. Si el usuario ingresa un tipo de vehiculo distinto debe mostrar un mensaje indicando el error."
      ],
      "metadata": {
        "id": "UpCPJNwva65L"
      }
    },
    {
      "cell_type": "code",
      "source": [
        "// Variable para leer el tipo de vehiculo\n",
        "Scanner scn = new Scanner(System.in);\n",
        "\n",
        "// Leer el vehiculo (String)\n",
        "System.out.println(\"En que vehiculo se desplaza (Carro/Camion/Moto)\");\n",
        "String tipoVehiculo = scn.nextLine();\n",
        "\n",
        "// Lógica\n",
        "switch (tipoVehiculo) {\n",
        "   case \"Carro\":\n",
        "      System.out.println(\"Puedes pasar de 00:00 a 08:00\");\n",
        "      break;\n",
        "    case \"Camion\":\n",
        "      System.out.println(\"Puedes pasar de 08:00 a 16:00\");\n",
        "      break;\n",
        "    case \"Moto\":\n",
        "      System.out.println(\"Puedes pasar de 16:00 a 24:00\");\n",
        "      break;\n",
        "    default:\n",
        "      System.out.println(\"No se puede pasar con un \" + tipoVehiculo);\n",
        "      break;\n",
        "}"
      ],
      "metadata": {
        "id": "12MIEBc4xzmI",
        "colab": {
          "base_uri": "https://localhost:8080/"
        },
        "outputId": "cd370f68-f489-4ff5-fd21-7671f63f6d12"
      },
      "execution_count": null,
      "outputs": [
        {
          "output_type": "stream",
          "name": "stdout",
          "text": [
            "En que vehiculo se desplaza (Carro/Camion/Moto)\n",
            "Carro\n",
            "Puedes pasar de 00:00 a 08:00\n"
          ]
        }
      ]
    },
    {
      "cell_type": "markdown",
      "source": [
        "#### Ejemplo 13:\n",
        "\n",
        "Realizar un programa que simule el juego 'Piedra, Papel o Tijera'. El usuario debe ingresar `Piedra`, `Papel` o `Tijera`, y competirá con la computadora.\n",
        "\n",
        "El usuario debe ingresar un numero entero (`1 = Piedra`, `2 = Papel`, `3 = Tijera`) e imprimir uno de los tres posibles resultados (ganar, perder o empatar)."
      ],
      "metadata": {
        "id": "47U6oZ5Rb_n2"
      }
    },
    {
      "cell_type": "code",
      "source": [
        "System.out.println(\"----------- Piedra, Papel o Tijera -----------\");\n",
        "\n",
        "// Math.random() genera un numero decimal al azar entre 0.0 y 1.0\n",
        "// la expresión (int) al inicio redondea el numero (lo convierte a entero)\n",
        "int seleccionCompu = (int)(Math.random() * 3) + 1; // Variable de tipo entero (1, 2 o 3) al azar\n",
        "System.out.println(\"La computadora ya escogió...\");\n",
        "\n",
        "// Leer opción del usuario\n",
        "Scanner teclado = new Scanner(System.in);\n",
        "System.out.println(\"Ingrese su opción [1=Piedra, 2=Papel, 3=Tijera]: \");\n",
        "int seleccionUsuario = teclado.nextInt();\n",
        "\n",
        "// Lógica\n",
        "System.out.println(\"La computadora habia escogido: \");\n",
        "switch (seleccionCompu) {\n",
        "    case 1:\n",
        "        System.out.println(\"Piedra\");\n",
        "        switch (seleccionUsuario) {\n",
        "            case 1:\n",
        "                System.out.println(\"Empate!\");\n",
        "                break;\n",
        "            case 2:\n",
        "                System.out.println(\"Usted gana!\");\n",
        "                break;\n",
        "            case 3:\n",
        "                System.out.println(\"La computadora gana!\");\n",
        "                break;\n",
        "            default:\n",
        "                System.out.println(\"Su opción no es valida, vuelva a intentarlo\");\n",
        "        }\n",
        "        break;\n",
        "\n",
        "    case 2:\n",
        "        System.out.println(\"Papel\");\n",
        "        switch (seleccionUsuario) {\n",
        "            case 1:\n",
        "                System.out.println(\"La computadora gana!\");\n",
        "                break;\n",
        "            case 2:\n",
        "                System.out.println(\"Empate!\");\n",
        "                break;\n",
        "            case 3:\n",
        "                System.out.println(\"Usted gana!\");\n",
        "                break;\n",
        "            default:\n",
        "                System.out.println(\"Su opción no es valida, vuelva a intentarlo\");\n",
        "        }\n",
        "        break;\n",
        "\n",
        "    case 3:\n",
        "        System.out.println(\"Tijera\");\n",
        "        switch (seleccionUsuario) {\n",
        "            case 1:\n",
        "                System.out.println(\"Usted gana!\");\n",
        "                break;\n",
        "            case 2:\n",
        "                System.out.println(\"La computadora gana!\");\n",
        "                break;\n",
        "            case 3:\n",
        "                System.out.println(\"Empate!\");\n",
        "                break;\n",
        "            default:\n",
        "                System.out.println(\"Su opción no es valida, vuelva a intentarlo\");\n",
        "        }\n",
        "        break;\n",
        "}"
      ],
      "metadata": {
        "colab": {
          "base_uri": "https://localhost:8080/"
        },
        "id": "Moqm2TxMND1a",
        "outputId": "17ece24e-1f62-4eae-b065-ce9fad17d01e"
      },
      "execution_count": null,
      "outputs": [
        {
          "output_type": "stream",
          "name": "stdout",
          "text": [
            "----------- Piedra, Papel o Tijera -----------\n",
            "La computadora ya escogió...\n",
            "Ingrese su opción [1=Piedra, 2=Papel, 3=Tijera]: \n",
            "2\n",
            "La computadora habia escogido: \n",
            "Papel\n",
            "Empate!\n"
          ]
        }
      ]
    },
    {
      "cell_type": "markdown",
      "source": [
        "#### Ejemplo 14:\n",
        "\n",
        "Hacer un programa que simule un cajero automático con un saldo inicial de $1000$ dólares, con el siguiente menú de opciones:\n",
        "\n",
        "    1. Ingresar dinero a la cuenta.\n",
        "    2. Retirar dinero de la cuenta.\n",
        "    3. Salir.\n",
        "\n",
        "Para cada opción debe imprimir un mensaje. Si el saldo a retirar es mayor al que tiene en la cuenta tambien debe indicarlo en pantalla."
      ],
      "metadata": {
        "id": "wiVsXzTYs_7Q"
      }
    },
    {
      "cell_type": "code",
      "source": [
        "// Definir variables\n",
        "final int saldo_inicial = 1000;\n",
        "int opcion;\n",
        "double ingreso, saldoActual, retiro;\n",
        "\n",
        "// Mostrar menú\n",
        "System.out.println(\"1. Ingresar dinero a la cuenta\");\n",
        "System.out.println(\"2. Retirar dinero de la cuenta.\");\n",
        "System.out.println(\"3. Salir.\");\n",
        "\n",
        "// Variable de tipo Scanner para leer otras variables\n",
        "Scanner entrada = new Scanner(System.in);\n",
        "\n",
        "// Leer la opción (1, 2 o 3)\n",
        "System.out.print(\"Ingresar la opción: \");\n",
        "opcion = entrada.nextInt();\n",
        "\n",
        "// Lógica\n",
        "switch (opcion) {\n",
        "    case 1:\n",
        "        System.out.println(\"Ingrese la cantidad que desea ingresar en la cuenta: \");\n",
        "        ingreso = entrada.nextDouble();\n",
        "        saldoActual = saldo_inicial + ingreso;\n",
        "        System.out.println(\"El saldo actual es: \" + saldoActual);\n",
        "        break;\n",
        "    case 2 :\n",
        "        System.out.print(\"Ingrese la cantidad que desea retirar: \");\n",
        "        retiro = entrada.nextDouble();\n",
        "        if (retiro <= saldo_inicial) {\n",
        "            saldoActual = saldo_inicial - retiro;\n",
        "            System.out.println(\"Dinero en la cuenta: \" + saldoActual);\n",
        "        } else {\n",
        "            System.out.println(\"No cuenta con el saldo suficiente\");\n",
        "        }\n",
        "        break;\n",
        "    case 3:\n",
        "        System.out.println(\"Hasta luego...\");\n",
        "        break;\n",
        "    default:\n",
        "        System.out.println(\"Opción no valida, intente de nuevo.\");\n",
        "}"
      ],
      "metadata": {
        "colab": {
          "base_uri": "https://localhost:8080/"
        },
        "id": "ORmOHXN8tAju",
        "outputId": "f18f17f4-24d9-4ebd-99dc-659c05e916a6"
      },
      "execution_count": null,
      "outputs": [
        {
          "output_type": "stream",
          "name": "stdout",
          "text": [
            "1. Ingresar dinero a la cuenta\n",
            "2. Retirar dinero de la cuenta.\n",
            "3. Salir.\n",
            "Ingresar la opción: 1\n",
            "Ingrese la cantidad que desea ingresar en la cuenta: \n",
            "12300\n",
            "El saldo actual es: 13300.0\n"
          ]
        }
      ]
    },
    {
      "cell_type": "markdown",
      "source": [
        "<a name='4'></a>\n",
        "## Ejercicios"
      ],
      "metadata": {
        "id": "CMOlxd0IjhuH"
      }
    },
    {
      "cell_type": "markdown",
      "source": [
        "#### Ejercicio 1:\n",
        "\n",
        "Realizar un programa que determine si un estudiante ha aprobado o no un examen. Para aprobar el examen, el estudiante debe obtener una calificación de al menos $60$ en el examen escrito y una calificación de al menos $80$ en el examen oral. Además, si la calificación total del examen (promedio de las calificaciones) es superior o igual a $90$, el estudiante recibe una mención honorífica.\n",
        "\n",
        "- **Nota:** Debe ingresar como minimo 4 estudiantes con su respectivas notas."
      ],
      "metadata": {
        "id": "bev-njaim6A5"
      }
    },
    {
      "cell_type": "code",
      "source": [],
      "metadata": {
        "id": "2aZgl3lWimrk"
      },
      "execution_count": null,
      "outputs": []
    },
    {
      "cell_type": "markdown",
      "source": [
        "#### Ejercicio 2:\n",
        "\n",
        "Tienes una tienda de ropa y deseas calcular el precio final de una compra de un cliente. La tienda ofrece un descuento del $10\\%$ en todas las compras que superen los $\\$100$, y un descuento adicional del $5\\%$ si el cliente tiene una tarjeta de membresía de la tienda. Además, la tienda cobra una tarifa de envío de $\\$5$ para todas las compras que se envían por correo. Si el cliente gasta más de $\\$200$, la tienda cubre el costo de envío."
      ],
      "metadata": {
        "id": "8K9GiZZvnVFT"
      }
    },
    {
      "cell_type": "code",
      "source": [],
      "metadata": {
        "id": "e-Mlokdon-X4"
      },
      "execution_count": null,
      "outputs": []
    },
    {
      "cell_type": "markdown",
      "source": [
        "#### Ejercicio 3:\n",
        "\n",
        "Debes crear un programa de gestión de personal que almacena la información de los empleados en una base de datos. Cada empleado tiene un nombre, una edad, un salario y un cargo. La empresa tiene tres cargos diferentes: `\"gerente\"`, `\"supervisor\"` y `\"empleado\"`. El programa debe imprimir una carta para cada empleado, que depende de su cargo y su salario. Si el salario es mayor que $\\$50000$, la carta debe ser de felicitación. Si el salario es menor o igual a $\\$50000$, la carta debe ser de agradecimiento. La carta también debe mencionar el cargo del empleado.\n",
        "\n",
        "- **Nota:** Debe ingresar como minimo 5 empleados con sus respectivos datos."
      ],
      "metadata": {
        "id": "HWgw0sGKoDk_"
      }
    },
    {
      "cell_type": "code",
      "source": [],
      "metadata": {
        "id": "43dhIpKGIdFm"
      },
      "execution_count": null,
      "outputs": []
    }
  ]
}